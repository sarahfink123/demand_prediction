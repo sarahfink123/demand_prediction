{
 "cells": [
  {
   "cell_type": "code",
   "execution_count": 13,
   "metadata": {},
   "outputs": [
    {
     "data": {
      "text/plain": [
       "'../raw_data/hotel_bookings_raw.csv'"
      ]
     },
     "execution_count": 13,
     "metadata": {},
     "output_type": "execute_result"
    }
   ],
   "source": [
    "import os\n",
    "import pandas as pd\n",
    "from sklearn.model_selection import train_test_split\n",
    "\n",
    "# print(\"Current Working Directory:\", os.getcwd())\n",
    "\n",
    "data_path = os.path.join('..','raw_data', 'hotel_bookings_raw.csv')\n",
    "\n",
    "# # Load data\n",
    "# df = pd.read_csv(data_path)\n",
    "\n",
    "# # Define target variable\n",
    "# target_variable = 'is_canceled'\n",
    "\n",
    "# # Split data into features and target variable\n",
    "# X = df.drop([target_variable], axis=1)\n",
    "# y = df[target_variable]"
   ]
  },
  {
   "cell_type": "code",
   "execution_count": null,
   "metadata": {},
   "outputs": [],
   "source": []
  }
 ],
 "metadata": {
  "kernelspec": {
   "display_name": "demand_prediction",
   "language": "python",
   "name": "python3"
  },
  "language_info": {
   "codemirror_mode": {
    "name": "ipython",
    "version": 3
   },
   "file_extension": ".py",
   "mimetype": "text/x-python",
   "name": "python",
   "nbconvert_exporter": "python",
   "pygments_lexer": "ipython3",
   "version": "3.10.6"
  }
 },
 "nbformat": 4,
 "nbformat_minor": 2
}
