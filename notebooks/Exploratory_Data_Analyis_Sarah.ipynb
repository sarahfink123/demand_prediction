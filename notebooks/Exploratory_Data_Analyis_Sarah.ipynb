{
 "cells": [
  {
   "cell_type": "markdown",
   "metadata": {},
   "source": [
    "# Exploratory data analysis"
   ]
  },
  {
   "cell_type": "code",
   "execution_count": 6,
   "metadata": {},
   "outputs": [
    {
     "ename": "ModuleNotFoundError",
     "evalue": "No module named 'colorama'",
     "output_type": "error",
     "traceback": [
      "\u001b[0;31m---------------------------------------------------------------------------\u001b[0m",
      "\u001b[0;31mModuleNotFoundError\u001b[0m                       Traceback (most recent call last)",
      "Cell \u001b[0;32mIn[6], line 4\u001b[0m\n\u001b[1;32m      2\u001b[0m \u001b[38;5;28;01mimport\u001b[39;00m \u001b[38;5;21;01mpandas\u001b[39;00m \u001b[38;5;28;01mas\u001b[39;00m \u001b[38;5;21;01mpd\u001b[39;00m\n\u001b[1;32m      3\u001b[0m \u001b[38;5;28;01mimport\u001b[39;00m \u001b[38;5;21;01mnumpy\u001b[39;00m \u001b[38;5;28;01mas\u001b[39;00m \u001b[38;5;21;01mnp\u001b[39;00m\n\u001b[0;32m----> 4\u001b[0m \u001b[38;5;28;01mfrom\u001b[39;00m \u001b[38;5;21;01mcolorama\u001b[39;00m \u001b[38;5;28;01mimport\u001b[39;00m Fore, Style\n\u001b[1;32m      5\u001b[0m \u001b[38;5;28;01mfrom\u001b[39;00m \u001b[38;5;21;01msklearn\u001b[39;00m\u001b[38;5;21;01m.\u001b[39;00m\u001b[38;5;21;01mpreprocessing\u001b[39;00m \u001b[38;5;28;01mimport\u001b[39;00m StandardScaler, OneHotEncoder\n\u001b[1;32m      6\u001b[0m \u001b[38;5;28;01mfrom\u001b[39;00m \u001b[38;5;21;01msklearn\u001b[39;00m\u001b[38;5;21;01m.\u001b[39;00m\u001b[38;5;21;01mcompose\u001b[39;00m \u001b[38;5;28;01mimport\u001b[39;00m ColumnTransformer\n",
      "\u001b[0;31mModuleNotFoundError\u001b[0m: No module named 'colorama'"
     ]
    }
   ],
   "source": [
    "# Import necessary libraries\n",
    "import pandas as pd\n",
    "import numpy as np\n",
    "from colorama import Fore, Style\n",
    "from sklearn.preprocessing import StandardScaler, OneHotEncoder\n",
    "from sklearn.compose import ColumnTransformer\n",
    "from sklearn.pipeline import Pipeline\n",
    "from sklearn.impute import SimpleImputer\n",
    "import sys\n",
    "import os"
   ]
  },
  {
   "cell_type": "markdown",
   "metadata": {},
   "source": [
    "## 1. Loading the Data\n",
    "- Importing the preprocessed data\n"
   ]
  },
  {
   "cell_type": "code",
   "execution_count": 7,
   "metadata": {},
   "outputs": [
    {
     "name": "stdout",
     "output_type": "stream",
     "text": [
      "          hotel  is_canceled  lead_time  arrival_date_year arrival_date_month  \\\n",
      "0  Resort Hotel            0        342               2015               July   \n",
      "1  Resort Hotel            0        737               2015               July   \n",
      "2  Resort Hotel            0          7               2015               July   \n",
      "3  Resort Hotel            0         13               2015               July   \n",
      "4  Resort Hotel            0         14               2015               July   \n",
      "\n",
      "   arrival_date_week_number  arrival_date_day_of_month  \\\n",
      "0                        27                          1   \n",
      "1                        27                          1   \n",
      "2                        27                          1   \n",
      "3                        27                          1   \n",
      "4                        27                          1   \n",
      "\n",
      "   stays_in_weekend_nights  stays_in_week_nights  adults  ...  INFLATION  \\\n",
      "0                        0                     0       2  ...        1.8   \n",
      "1                        0                     0       2  ...        1.8   \n",
      "2                        0                     1       1  ...        1.8   \n",
      "3                        0                     1       1  ...        1.8   \n",
      "4                        0                     2       2  ...        1.8   \n",
      "\n",
      "   INFLATION_CHG CSMR_SENT UNRATE INTRSRT       GDP  FUEL_PRCS  CPI_HOTELS  \\\n",
      "0            0.0      93.1    5.3    0.75  18306.96      194.0    0.187566   \n",
      "1            0.0      93.1    5.3    0.75  18306.96      194.0    0.187566   \n",
      "2            0.0      93.1    5.3    0.75  18306.96      194.0    0.187566   \n",
      "3            0.0      93.1    5.3    0.75  18306.96      194.0    0.187566   \n",
      "4            0.0      93.1    5.3    0.75  18306.96      194.0    0.187566   \n",
      "\n",
      "   US_GINI  DIS_INC  \n",
      "0     41.2  41355.0  \n",
      "1     41.2  41355.0  \n",
      "2     41.2  41355.0  \n",
      "3     41.2  41355.0  \n",
      "4     41.2  41355.0  \n",
      "\n",
      "[5 rows x 43 columns]\n",
      "\u001b[34m\n",
      "Preprocessing features...\u001b[0m\n",
      "✅ X_processed, with shape (119390, 1219)\n",
      "Processed data shape: (119390, 1219)\n"
     ]
    }
   ],
   "source": [
    "#(from ml_logic.preprocessor import preprocess_features)\n",
    "\n",
    "# Import the preprocessing function\n",
    "sys.path.append('..')  # Adjust the path to your file structure\n",
    "from demand_predictor.ml_logic.preprocessor import preprocess_features  # Adjust the import according to your file structure\n",
    "\n",
    "# Define the path to your raw data CSV file\n",
    "data_path = '../raw_data/hotel_bookings_raw.csv'  # Adjust the path if necessary\n",
    "\n",
    "# Load the data\n",
    "df = pd.read_csv(data_path)\n",
    "\n",
    "# Display the first few rows of the dataframe\n",
    "print(df.head())\n",
    "\n",
    "# Preprocess the data\n",
    "X_processed = preprocess_features(df)\n",
    "\n",
    "# Display the shape of the processed data\n",
    "print(\"Processed data shape:\", X_processed.shape)"
   ]
  },
  {
   "cell_type": "markdown",
   "metadata": {},
   "source": [
    "## 2. Data Visualization\n",
    "- Univariate analysis\n",
    "- Bivariate analysis (scatterplot)\n",
    "- Multivariate analysis\n",
    "- Autogluon summary\n",
    "- Histograms and Density PLots\n",
    "- Boxplots\n",
    "- Heatmaps\n",
    "- Bar Plots\n",
    "- Pair Plots\n",
    "- Correlation Matrix\n",
    "- Pairwise Correlation\n",
    "- etc.\n"
   ]
  },
  {
   "cell_type": "code",
   "execution_count": null,
   "metadata": {},
   "outputs": [],
   "source": [
    "# #Summarize the dataset using AutoGluon\n",
    "# from autogluon.tabular import TabularDataset, TabularPredictor\n",
    "# ag_data = TabularDataset(data_path)\n",
    "# print(ag_data.describe())"
   ]
  },
  {
   "cell_type": "markdown",
   "metadata": {},
   "source": [
    "## 3. Feature Engineering\n",
    "- Creating new features\n",
    "- Transforming existing features"
   ]
  },
  {
   "cell_type": "markdown",
   "metadata": {},
   "source": [
    "## 4. Summary and Next Steps\n",
    "- Key insights from the analysis\n",
    "- Potential next steps for modeling"
   ]
  }
 ],
 "metadata": {
  "kernelspec": {
   "display_name": "demand_prediction",
   "language": "python",
   "name": "python3"
  },
  "language_info": {
   "codemirror_mode": {
    "name": "ipython",
    "version": 3
   },
   "file_extension": ".py",
   "mimetype": "text/x-python",
   "name": "python",
   "nbconvert_exporter": "python",
   "pygments_lexer": "ipython3",
   "version": "3.10.6"
  }
 },
 "nbformat": 4,
 "nbformat_minor": 2
}
