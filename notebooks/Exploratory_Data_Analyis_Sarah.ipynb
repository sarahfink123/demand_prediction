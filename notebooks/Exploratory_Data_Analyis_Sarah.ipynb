{
 "cells": [
  {
   "cell_type": "markdown",
   "metadata": {},
   "source": [
    "# Exploratory data analysis"
   ]
  },
  {
   "cell_type": "code",
   "execution_count": 1,
   "metadata": {},
   "outputs": [],
   "source": [
    "# Import necessary libraries\n",
    "import pandas as pd\n",
    "import numpy as np\n",
    "from colorama import Fore, Style\n",
    "from sklearn.preprocessing import StandardScaler, OneHotEncoder\n",
    "from sklearn.compose import ColumnTransformer\n",
    "from sklearn.pipeline import Pipeline\n",
    "from sklearn.impute import SimpleImputer\n",
    "import sys\n",
    "import os"
   ]
  },
  {
   "cell_type": "markdown",
   "metadata": {},
   "source": [
    "## 1. Loading the Data\n",
    "- Importing the preprocessed data\n"
   ]
  },
  {
   "cell_type": "code",
   "execution_count": 2,
   "metadata": {},
   "outputs": [
    {
     "name": "stdout",
     "output_type": "stream",
     "text": [
      "<class 'pandas.core.frame.DataFrame'>\n",
      "RangeIndex: 119390 entries, 0 to 119389\n",
      "Data columns (total 43 columns):\n",
      " #   Column                          Non-Null Count   Dtype  \n",
      "---  ------                          --------------   -----  \n",
      " 0   hotel                           119390 non-null  object \n",
      " 1   is_canceled                     119390 non-null  int64  \n",
      " 2   lead_time                       119390 non-null  int64  \n",
      " 3   arrival_date_year               119390 non-null  int64  \n",
      " 4   arrival_date_month              119390 non-null  object \n",
      " 5   arrival_date_week_number        119390 non-null  int64  \n",
      " 6   arrival_date_day_of_month       119390 non-null  int64  \n",
      " 7   stays_in_weekend_nights         119390 non-null  int64  \n",
      " 8   stays_in_week_nights            119390 non-null  int64  \n",
      " 9   adults                          119390 non-null  int64  \n",
      " 10  children                        119386 non-null  float64\n",
      " 11  babies                          119390 non-null  int64  \n",
      " 12  meal                            119390 non-null  object \n",
      " 13  country                         118902 non-null  object \n",
      " 14  market_segment                  119390 non-null  object \n",
      " 15  distribution_channel            119390 non-null  object \n",
      " 16  is_repeated_guest               119390 non-null  int64  \n",
      " 17  previous_cancellations          119390 non-null  int64  \n",
      " 18  previous_bookings_not_canceled  119390 non-null  int64  \n",
      " 19  reserved_room_type              119390 non-null  object \n",
      " 20  assigned_room_type              119390 non-null  object \n",
      " 21  booking_changes                 119390 non-null  int64  \n",
      " 22  deposit_type                    119390 non-null  object \n",
      " 23  agent                           103050 non-null  float64\n",
      " 24  days_in_waiting_list            119390 non-null  int64  \n",
      " 25  customer_type                   119390 non-null  object \n",
      " 26  adr                             119390 non-null  float64\n",
      " 27  required_car_parking_spaces     119390 non-null  int64  \n",
      " 28  total_of_special_requests       119390 non-null  int64  \n",
      " 29  reservation_status              119390 non-null  object \n",
      " 30  reservation_status_date         119390 non-null  object \n",
      " 31  MO_YR                           119390 non-null  object \n",
      " 32  CPI_AVG                         119209 non-null  float64\n",
      " 33  INFLATION                       119209 non-null  float64\n",
      " 34  INFLATION_CHG                   119209 non-null  float64\n",
      " 35  CSMR_SENT                       119209 non-null  float64\n",
      " 36  UNRATE                          119209 non-null  float64\n",
      " 37  INTRSRT                         119209 non-null  float64\n",
      " 38  GDP                             119209 non-null  float64\n",
      " 39  FUEL_PRCS                       119209 non-null  float64\n",
      " 40  CPI_HOTELS                      119209 non-null  float64\n",
      " 41  US_GINI                         119209 non-null  float64\n",
      " 42  DIS_INC                         119209 non-null  float64\n",
      "dtypes: float64(14), int64(16), object(13)\n",
      "memory usage: 39.2+ MB\n"
     ]
    }
   ],
   "source": [
    "data_path = os.path.join('..','raw_data', 'hotel_bookings_raw.csv')\n",
    "\n",
    "df = pd.read_csv(data_path)\n",
    "df.info()"
   ]
  },
  {
   "cell_type": "code",
   "execution_count": 3,
   "metadata": {},
   "outputs": [],
   "source": [
    "# hotel -> 0 und 1\n",
    "# is_canceled, is_repeated_guest -> keep like this\n",
    "# stays_in_weekend_nights, stays_in_week_nights, lead_time, adults, adr, CPI_AVG, INFLATION, INFLATION_CHG, CSMR_SENT, UNRATE, INTRSRT, GDP, FUEL_PRCS, CPI_HOTELS, US_GINI, DIS_INC-> scale\n",
    "# arrival_date_month -> change to numbers\n",
    "# arrival_date_year, arrival_date_week_number, arrival_date_day_of_month, children, babies, previous_cancellations, previous_bookings_not_canceled, reserved_room_type, assigned_room_type, booking_changes, deposit_type, agent, days_in_waiting_list, customer_type, required_car_parking_spaces, total_of_special_requests, reservation_status_date, MO_YR, -> drop\n",
    "# meal, country, market_segment, distribution_channel, reservation_status -> categorical (3-5 categories, encoden, maybe drop undefined)"
   ]
  },
  {
   "cell_type": "code",
   "execution_count": 4,
   "metadata": {},
   "outputs": [],
   "source": [
    "#Drop columns\n",
    "df = df.drop(columns=['arrival_date_year', 'arrival_date_week_number', 'arrival_date_day_of_month', 'children', 'babies', 'previous_cancellations', 'previous_bookings_not_canceled', 'reserved_room_type', 'assigned_room_type', 'booking_changes', 'deposit_type', 'agent', 'days_in_waiting_list', 'customer_type', 'required_car_parking_spaces', 'total_of_special_requests', 'reservation_status_date', 'MO_YR'])"
   ]
  },
  {
   "cell_type": "code",
   "execution_count": 5,
   "metadata": {},
   "outputs": [
    {
     "data": {
      "text/plain": [
       "0"
      ]
     },
     "execution_count": 5,
     "metadata": {},
     "output_type": "execute_result"
    }
   ],
   "source": [
    "#Drop duplicates\n",
    "df.duplicated().sum()\n",
    "df.drop_duplicates(inplace=True)\n",
    "df.duplicated().sum()"
   ]
  },
  {
   "cell_type": "code",
   "execution_count": 6,
   "metadata": {},
   "outputs": [
    {
     "name": "stdout",
     "output_type": "stream",
     "text": [
      "<class 'pandas.core.frame.DataFrame'>\n",
      "Index: 83123 entries, 0 to 119389\n",
      "Data columns (total 25 columns):\n",
      " #   Column                   Non-Null Count  Dtype  \n",
      "---  ------                   --------------  -----  \n",
      " 0   hotel                    83123 non-null  object \n",
      " 1   is_canceled              83123 non-null  int64  \n",
      " 2   lead_time                83123 non-null  int64  \n",
      " 3   arrival_date_month       83123 non-null  object \n",
      " 4   stays_in_weekend_nights  83123 non-null  int64  \n",
      " 5   stays_in_week_nights     83123 non-null  int64  \n",
      " 6   adults                   83123 non-null  int64  \n",
      " 7   meal                     83123 non-null  object \n",
      " 8   country                  82685 non-null  object \n",
      " 9   market_segment           83123 non-null  object \n",
      " 10  distribution_channel     83123 non-null  object \n",
      " 11  is_repeated_guest        83123 non-null  int64  \n",
      " 12  adr                      83123 non-null  float64\n",
      " 13  reservation_status       83123 non-null  object \n",
      " 14  CPI_AVG                  83113 non-null  float64\n",
      " 15  INFLATION                83113 non-null  float64\n",
      " 16  INFLATION_CHG            83113 non-null  float64\n",
      " 17  CSMR_SENT                83113 non-null  float64\n",
      " 18  UNRATE                   83113 non-null  float64\n",
      " 19  INTRSRT                  83113 non-null  float64\n",
      " 20  GDP                      83113 non-null  float64\n",
      " 21  FUEL_PRCS                83113 non-null  float64\n",
      " 22  CPI_HOTELS               83113 non-null  float64\n",
      " 23  US_GINI                  83113 non-null  float64\n",
      " 24  DIS_INC                  83113 non-null  float64\n",
      "dtypes: float64(12), int64(6), object(7)\n",
      "memory usage: 16.5+ MB\n"
     ]
    }
   ],
   "source": [
    "df.info()"
   ]
  },
  {
   "cell_type": "code",
   "execution_count": 7,
   "metadata": {},
   "outputs": [
    {
     "data": {
      "text/plain": [
       "hotel                      0\n",
       "is_canceled                0\n",
       "lead_time                  0\n",
       "arrival_date_month         0\n",
       "stays_in_weekend_nights    0\n",
       "stays_in_week_nights       0\n",
       "adults                     0\n",
       "meal                       0\n",
       "country                    0\n",
       "market_segment             0\n",
       "distribution_channel       0\n",
       "is_repeated_guest          0\n",
       "adr                        0\n",
       "reservation_status         0\n",
       "CPI_AVG                    0\n",
       "INFLATION                  0\n",
       "INFLATION_CHG              0\n",
       "CSMR_SENT                  0\n",
       "UNRATE                     0\n",
       "INTRSRT                    0\n",
       "GDP                        0\n",
       "FUEL_PRCS                  0\n",
       "CPI_HOTELS                 0\n",
       "US_GINI                    0\n",
       "DIS_INC                    0\n",
       "dtype: int64"
      ]
     },
     "execution_count": 7,
     "metadata": {},
     "output_type": "execute_result"
    }
   ],
   "source": [
    "#Drop duplicates\n",
    "df.dropna(inplace=True)\n",
    "df.isna().sum()"
   ]
  },
  {
   "cell_type": "code",
   "execution_count": 8,
   "metadata": {},
   "outputs": [
    {
     "data": {
      "text/plain": [
       "0           July\n",
       "1           July\n",
       "2           July\n",
       "3           July\n",
       "4           July\n",
       "           ...  \n",
       "119385    August\n",
       "119386    August\n",
       "119387    August\n",
       "119388    August\n",
       "119389    August\n",
       "Name: arrival_date_month, Length: 82675, dtype: object"
      ]
     },
     "execution_count": 8,
     "metadata": {},
     "output_type": "execute_result"
    }
   ],
   "source": [
    "df['arrival_date_month']"
   ]
  },
  {
   "cell_type": "code",
   "execution_count": 9,
   "metadata": {},
   "outputs": [
    {
     "data": {
      "text/plain": [
       "0         7\n",
       "1         7\n",
       "2         7\n",
       "3         7\n",
       "4         7\n",
       "         ..\n",
       "119385    8\n",
       "119386    8\n",
       "119387    8\n",
       "119388    8\n",
       "119389    8\n",
       "Name: arrival_date_month, Length: 82675, dtype: int64"
      ]
     },
     "execution_count": 9,
     "metadata": {},
     "output_type": "execute_result"
    }
   ],
   "source": [
    "#Change months to number\n",
    "# Create a mapping of month names to numbers\n",
    "month_mapping = {\n",
    "    'January': 1,\n",
    "    'February': 2,\n",
    "    'March': 3,\n",
    "    'April': 4,\n",
    "    'May': 5,\n",
    "    'June': 6,\n",
    "    'July': 7,\n",
    "    'August': 8,\n",
    "    'September': 9,\n",
    "    'October': 10,\n",
    "    'November': 11,\n",
    "    'December': 12\n",
    "}\n",
    "#Strip spaces\n",
    "df['arrival_date_month'] = df['arrival_date_month'].str.strip()\n",
    "# Replace month names with numbers\n",
    "df['arrival_date_month'] = df['arrival_date_month'].map(month_mapping)\n",
    "df['arrival_date_month']\n"
   ]
  },
  {
   "cell_type": "code",
   "execution_count": 10,
   "metadata": {},
   "outputs": [
    {
     "data": {
      "text/plain": [
       "0         0\n",
       "1         0\n",
       "2         0\n",
       "3         0\n",
       "4         0\n",
       "         ..\n",
       "119385    1\n",
       "119386    1\n",
       "119387    1\n",
       "119388    1\n",
       "119389    1\n",
       "Name: hotel, Length: 82675, dtype: int64"
      ]
     },
     "execution_count": 10,
     "metadata": {},
     "output_type": "execute_result"
    }
   ],
   "source": [
    "#Change hotel to binary\n",
    "hotel_mapping = {\n",
    "    'City Hotel': 1,\n",
    "    'Resort Hotel': 0\n",
    "}\n",
    "#Strip spaces\n",
    "df['hotel'] = df['hotel'].str.strip()\n",
    "# Replace month names with numbers\n",
    "df['hotel'] = df['hotel'].map(hotel_mapping)\n",
    "df['hotel']\n"
   ]
  },
  {
   "cell_type": "code",
   "execution_count": 13,
   "metadata": {},
   "outputs": [
    {
     "name": "stdout",
     "output_type": "stream",
     "text": [
      "Unique values in column 'meal':\n",
      "['BB' 'FB' 'HB' 'SC' 'Undefined']\n",
      "Unique values in column 'country':\n",
      "['PRT' 'GBR' 'USA' 'ESP' 'IRL' 'FRA' 'ROU' 'NOR' 'OMN' 'ARG' 'POL' 'DEU'\n",
      " 'BEL' 'CHE' 'CN' 'GRC' 'ITA' 'NLD' 'DNK' 'RUS' 'SWE' 'AUS' 'EST' 'CZE'\n",
      " 'BRA' 'FIN' 'MOZ' 'BWA' 'LUX' 'SVN' 'ALB' 'IND' 'CHN' 'MEX' 'MAR' 'UKR'\n",
      " 'SMR' 'LVA' 'PRI' 'SRB' 'CHL' 'AUT' 'BLR' 'LTU' 'TUR' 'ZAF' 'AGO' 'ISR'\n",
      " 'CYM' 'ZMB' 'CPV' 'ZWE' 'DZA' 'KOR' 'CRI' 'HUN' 'ARE' 'TUN' 'JAM' 'HRV'\n",
      " 'HKG' 'IRN' 'GEO' 'AND' 'GIB' 'URY' 'JEY' 'CAF' 'CYP' 'COL' 'GGY' 'KWT'\n",
      " 'NGA' 'MDV' 'VEN' 'SVK' 'FJI' 'KAZ' 'PAK' 'IDN' 'LBN' 'PHL' 'SEN' 'SYC'\n",
      " 'AZE' 'BHR' 'NZL' 'THA' 'DOM' 'MKD' 'MYS' 'ARM' 'JPN' 'LKA' 'CUB' 'CMR'\n",
      " 'BIH' 'MUS' 'COM' 'SUR' 'UGA' 'BGR' 'CIV' 'JOR' 'SYR' 'SGP' 'BDI' 'SAU'\n",
      " 'VNM' 'PLW' 'QAT' 'EGY' 'PER' 'MLT' 'MWI' 'ECU' 'MDG' 'ISL' 'UZB' 'NPL'\n",
      " 'BHS' 'MAC' 'TGO' 'TWN' 'DJI' 'STP' 'KNA' 'ETH' 'IRQ' 'HND' 'RWA' 'KHM'\n",
      " 'MCO' 'BGD' 'IMN' 'TJK' 'NIC' 'BEN' 'VGB' 'TZA' 'GAB' 'GHA' 'TMP' 'GLP'\n",
      " 'KEN' 'LIE' 'GNB' 'MNE' 'UMI' 'MYT' 'FRO' 'MMR' 'PAN' 'BFA' 'LBY' 'MLI'\n",
      " 'NAM' 'BOL' 'PRY' 'BRB' 'ABW' 'AIA' 'SLV' 'DMA' 'PYF' 'GUY' 'LCA' 'ATA'\n",
      " 'GTM' 'ASM' 'MRT' 'NCL' 'KIR' 'SDN' 'ATF' 'SLE' 'LAO']\n",
      "Unique values in column 'market_segment':\n",
      "['Direct' 'Corporate' 'Online TA' 'Offline TA/TO' 'Complementary' 'Groups'\n",
      " 'Undefined' 'Aviation']\n",
      "Unique values in column 'distribution_channel':\n",
      "['Direct' 'Corporate' 'TA/TO' 'Undefined' 'GDS']\n",
      "Unique values in column 'reservation_status':\n",
      "['Check-Out' 'Canceled' 'No-Show']\n"
     ]
    }
   ],
   "source": [
    "# List of columns to check unique values\n",
    "columns_to_check = [\"meal\", \"country\", \"market_segment\", \"distribution_channel\", \"reservation_status\"]\n",
    "\n",
    "# Iterate through each column and print unique values\n",
    "for column in columns_to_check:\n",
    "    unique_values = df[column].unique()\n",
    "    print(f\"Unique values in column '{column}':\")\n",
    "    print(unique_values)"
   ]
  },
  {
   "cell_type": "code",
   "execution_count": 16,
   "metadata": {},
   "outputs": [],
   "source": [
    "#Drop undefined\n",
    "\n",
    "df = df[df[\"meal\"] != \"Undefined\"]\n",
    "df = df[df[\"market_segment\"] != \"Undefined\"]\n",
    "df = df[df[\"distribution_channel\"] != \"Undefined\"]\n"
   ]
  },
  {
   "cell_type": "code",
   "execution_count": 17,
   "metadata": {},
   "outputs": [
    {
     "name": "stdout",
     "output_type": "stream",
     "text": [
      "Unique values in column 'meal':\n",
      "['BB' 'FB' 'HB' 'SC']\n",
      "Unique values in column 'country':\n",
      "['PRT' 'GBR' 'USA' 'ESP' 'IRL' 'FRA' 'ROU' 'NOR' 'OMN' 'ARG' 'POL' 'DEU'\n",
      " 'BEL' 'CHE' 'CN' 'GRC' 'ITA' 'NLD' 'DNK' 'RUS' 'SWE' 'AUS' 'EST' 'CZE'\n",
      " 'BRA' 'FIN' 'MOZ' 'BWA' 'LUX' 'SVN' 'ALB' 'IND' 'CHN' 'MEX' 'MAR' 'UKR'\n",
      " 'SMR' 'LVA' 'PRI' 'SRB' 'CHL' 'AUT' 'BLR' 'LTU' 'TUR' 'ZAF' 'AGO' 'ISR'\n",
      " 'CYM' 'ZMB' 'CPV' 'ZWE' 'DZA' 'KOR' 'CRI' 'HUN' 'ARE' 'TUN' 'JAM' 'HRV'\n",
      " 'HKG' 'IRN' 'GEO' 'AND' 'GIB' 'URY' 'JEY' 'CAF' 'CYP' 'COL' 'GGY' 'KWT'\n",
      " 'NGA' 'MDV' 'VEN' 'SVK' 'FJI' 'KAZ' 'PAK' 'IDN' 'LBN' 'PHL' 'SEN' 'SYC'\n",
      " 'AZE' 'BHR' 'NZL' 'THA' 'DOM' 'MKD' 'MYS' 'ARM' 'JPN' 'LKA' 'CUB' 'CMR'\n",
      " 'BIH' 'MUS' 'COM' 'SUR' 'UGA' 'BGR' 'CIV' 'JOR' 'SYR' 'SGP' 'BDI' 'SAU'\n",
      " 'VNM' 'PLW' 'QAT' 'EGY' 'PER' 'MLT' 'MWI' 'ECU' 'MDG' 'ISL' 'UZB' 'NPL'\n",
      " 'BHS' 'MAC' 'TGO' 'TWN' 'DJI' 'STP' 'KNA' 'ETH' 'IRQ' 'HND' 'RWA' 'KHM'\n",
      " 'MCO' 'BGD' 'IMN' 'TJK' 'NIC' 'BEN' 'VGB' 'TZA' 'GAB' 'GHA' 'TMP' 'GLP'\n",
      " 'KEN' 'LIE' 'GNB' 'MNE' 'UMI' 'MYT' 'FRO' 'MMR' 'PAN' 'BFA' 'LBY' 'MLI'\n",
      " 'NAM' 'BOL' 'PRY' 'BRB' 'ABW' 'AIA' 'SLV' 'DMA' 'PYF' 'GUY' 'LCA' 'ATA'\n",
      " 'GTM' 'ASM' 'MRT' 'NCL' 'KIR' 'SDN' 'ATF' 'SLE' 'LAO']\n",
      "Unique values in column 'market_segment':\n",
      "['Direct' 'Corporate' 'Online TA' 'Offline TA/TO' 'Complementary' 'Groups'\n",
      " 'Aviation']\n",
      "Unique values in column 'distribution_channel':\n",
      "['Direct' 'Corporate' 'TA/TO' 'GDS']\n",
      "Unique values in column 'reservation_status':\n",
      "['Check-Out' 'Canceled' 'No-Show']\n"
     ]
    }
   ],
   "source": [
    "# List of columns to check unique values\n",
    "columns_to_check = [\"meal\", \"country\", \"market_segment\", \"distribution_channel\", \"reservation_status\"]\n",
    "\n",
    "# Iterate through each column and print unique values\n",
    "for column in columns_to_check:\n",
    "    unique_values = df[column].unique()\n",
    "    print(f\"Unique values in column '{column}':\")\n",
    "    print(unique_values)"
   ]
  },
  {
   "cell_type": "code",
   "execution_count": 21,
   "metadata": {},
   "outputs": [
    {
     "name": "stdout",
     "output_type": "stream",
     "text": [
      "Unique values in 'country': [135  59 169  51  76  56 139 124 127   6 133  43  15  29  34  66  81 123\n",
      "  46 140 154  11  52  42  25  54 113  27 100 153   3  75  31 107 103 166\n",
      " 148 101 134 149  30  12  23  99 162 174   1  80  40 175  37 176  48  91\n",
      "  38  72   5 161  82  71  69  77  60   4  63 168  83  28  41  35  61  92\n",
      " 121 106 171 152  55  86 128  73  94 131 144 155  13  20 126 158  47 108\n",
      " 117   7  85  98  39  33  22 115  36 151 165  19  32  84 156 145  14 142\n",
      " 173 132 138  50 130 110 116  49 105  79 170 125  21 102 157 163  44 150\n",
      "  90  53  78  70 141  88 104  18  74 159 122  16 172 164  58  62 160  64\n",
      "  87  97  65 112 167 118  57 111 129  17  95 109 119  24 136  26   0   2\n",
      " 147  45 137  68  96   9  67   8 114 120  89 143  10 146  93]\n",
      "Country mapping:\n",
      " {'ABW': 0, 'AGO': 1, 'AIA': 2, 'ALB': 3, 'AND': 4, 'ARE': 5, 'ARG': 6, 'ARM': 7, 'ASM': 8, 'ATA': 9, 'ATF': 10, 'AUS': 11, 'AUT': 12, 'AZE': 13, 'BDI': 14, 'BEL': 15, 'BEN': 16, 'BFA': 17, 'BGD': 18, 'BGR': 19, 'BHR': 20, 'BHS': 21, 'BIH': 22, 'BLR': 23, 'BOL': 24, 'BRA': 25, 'BRB': 26, 'BWA': 27, 'CAF': 28, 'CHE': 29, 'CHL': 30, 'CHN': 31, 'CIV': 32, 'CMR': 33, 'CN': 34, 'COL': 35, 'COM': 36, 'CPV': 37, 'CRI': 38, 'CUB': 39, 'CYM': 40, 'CYP': 41, 'CZE': 42, 'DEU': 43, 'DJI': 44, 'DMA': 45, 'DNK': 46, 'DOM': 47, 'DZA': 48, 'ECU': 49, 'EGY': 50, 'ESP': 51, 'EST': 52, 'ETH': 53, 'FIN': 54, 'FJI': 55, 'FRA': 56, 'FRO': 57, 'GAB': 58, 'GBR': 59, 'GEO': 60, 'GGY': 61, 'GHA': 62, 'GIB': 63, 'GLP': 64, 'GNB': 65, 'GRC': 66, 'GTM': 67, 'GUY': 68, 'HKG': 69, 'HND': 70, 'HRV': 71, 'HUN': 72, 'IDN': 73, 'IMN': 74, 'IND': 75, 'IRL': 76, 'IRN': 77, 'IRQ': 78, 'ISL': 79, 'ISR': 80, 'ITA': 81, 'JAM': 82, 'JEY': 83, 'JOR': 84, 'JPN': 85, 'KAZ': 86, 'KEN': 87, 'KHM': 88, 'KIR': 89, 'KNA': 90, 'KOR': 91, 'KWT': 92, 'LAO': 93, 'LBN': 94, 'LBY': 95, 'LCA': 96, 'LIE': 97, 'LKA': 98, 'LTU': 99, 'LUX': 100, 'LVA': 101, 'MAC': 102, 'MAR': 103, 'MCO': 104, 'MDG': 105, 'MDV': 106, 'MEX': 107, 'MKD': 108, 'MLI': 109, 'MLT': 110, 'MMR': 111, 'MNE': 112, 'MOZ': 113, 'MRT': 114, 'MUS': 115, 'MWI': 116, 'MYS': 117, 'MYT': 118, 'NAM': 119, 'NCL': 120, 'NGA': 121, 'NIC': 122, 'NLD': 123, 'NOR': 124, 'NPL': 125, 'NZL': 126, 'OMN': 127, 'PAK': 128, 'PAN': 129, 'PER': 130, 'PHL': 131, 'PLW': 132, 'POL': 133, 'PRI': 134, 'PRT': 135, 'PRY': 136, 'PYF': 137, 'QAT': 138, 'ROU': 139, 'RUS': 140, 'RWA': 141, 'SAU': 142, 'SDN': 143, 'SEN': 144, 'SGP': 145, 'SLE': 146, 'SLV': 147, 'SMR': 148, 'SRB': 149, 'STP': 150, 'SUR': 151, 'SVK': 152, 'SVN': 153, 'SWE': 154, 'SYC': 155, 'SYR': 156, 'TGO': 157, 'THA': 158, 'TJK': 159, 'TMP': 160, 'TUN': 161, 'TUR': 162, 'TWN': 163, 'TZA': 164, 'UGA': 165, 'UKR': 166, 'UMI': 167, 'URY': 168, 'USA': 169, 'UZB': 170, 'VEN': 171, 'VGB': 172, 'VNM': 173, 'ZAF': 174, 'ZMB': 175, 'ZWE': 176}\n"
     ]
    }
   ],
   "source": [
    "# Encode country\n",
    "from sklearn.preprocessing import LabelEncoder\n",
    "label_encoder = LabelEncoder()\n",
    "df['country'] = label_encoder.fit_transform(df['country'])\n",
    "\n",
    "# Display the unique values in the encoded target column\n",
    "print(\"Unique values in 'country':\", df['country'].unique())\n",
    "\n",
    "# Display the mapping of original country codes to encoded labels\n",
    "country_mapping = dict(zip(label_encoder.classes_, label_encoder.transform(label_encoder.classes_)))\n",
    "print(\"Country mapping:\\n\", country_mapping)"
   ]
  },
  {
   "cell_type": "code",
   "execution_count": 23,
   "metadata": {},
   "outputs": [
    {
     "name": "stdout",
     "output_type": "stream",
     "text": [
      "<class 'pandas.core.frame.DataFrame'>\n",
      "RangeIndex: 82269 entries, 0 to 82268\n",
      "Data columns (total 36 columns):\n",
      " #   Column                        Non-Null Count  Dtype  \n",
      "---  ------                        --------------  -----  \n",
      " 0   hotel                         82269 non-null  int64  \n",
      " 1   is_canceled                   82269 non-null  int64  \n",
      " 2   lead_time                     82269 non-null  int64  \n",
      " 3   arrival_date_month            82269 non-null  int64  \n",
      " 4   stays_in_weekend_nights       82269 non-null  int64  \n",
      " 5   stays_in_week_nights          82269 non-null  int64  \n",
      " 6   adults                        82269 non-null  int64  \n",
      " 7   country                       82269 non-null  int64  \n",
      " 8   is_repeated_guest             82269 non-null  int64  \n",
      " 9   adr                           82269 non-null  float64\n",
      " 10  CPI_AVG                       82269 non-null  float64\n",
      " 11  INFLATION                     82269 non-null  float64\n",
      " 12  INFLATION_CHG                 82269 non-null  float64\n",
      " 13  CSMR_SENT                     82269 non-null  float64\n",
      " 14  UNRATE                        82269 non-null  float64\n",
      " 15  INTRSRT                       82269 non-null  float64\n",
      " 16  GDP                           82269 non-null  float64\n",
      " 17  FUEL_PRCS                     82269 non-null  float64\n",
      " 18  CPI_HOTELS                    82269 non-null  float64\n",
      " 19  US_GINI                       82269 non-null  float64\n",
      " 20  DIS_INC                       82269 non-null  float64\n",
      " 21  country_encoded               82269 non-null  int64  \n",
      " 22  meal_FB                       82269 non-null  float64\n",
      " 23  meal_HB                       82269 non-null  float64\n",
      " 24  meal_SC                       82269 non-null  float64\n",
      " 25  market_segment_Complementary  82269 non-null  float64\n",
      " 26  market_segment_Corporate      82269 non-null  float64\n",
      " 27  market_segment_Direct         82269 non-null  float64\n",
      " 28  market_segment_Groups         82269 non-null  float64\n",
      " 29  market_segment_Offline TA/TO  82269 non-null  float64\n",
      " 30  market_segment_Online TA      82269 non-null  float64\n",
      " 31  distribution_channel_Direct   82269 non-null  float64\n",
      " 32  distribution_channel_GDS      82269 non-null  float64\n",
      " 33  distribution_channel_TA/TO    82269 non-null  float64\n",
      " 34  reservation_status_Check-Out  82269 non-null  float64\n",
      " 35  reservation_status_No-Show    82269 non-null  float64\n",
      "dtypes: float64(26), int64(10)\n",
      "memory usage: 22.6 MB\n",
      "None\n"
     ]
    }
   ],
   "source": [
    "# One Hot Encode meal, country, market_segment, distribution_channel, reservation_status -> categorical (3-5 categories, encoden)\n",
    "from sklearn.preprocessing import OneHotEncoder\n",
    "import numpy as np\n",
    "\n",
    "# Columns to one-hot encode\n",
    "columns_to_encode = ['meal', 'market_segment', 'distribution_channel', 'reservation_status']\n",
    "\n",
    "# Instantiate the OneHotEncoder\n",
    "ohe = OneHotEncoder(sparse_output=False, drop='first')  # drop='first' avoids the dummy variable trap\n",
    "\n",
    "# Fit and transform the data\n",
    "encoded_data = ohe.fit_transform(df[columns_to_encode])\n",
    "\n",
    "# Convert encoded data to DataFrame\n",
    "encoded_df = pd.DataFrame(encoded_data, columns=ohe.get_feature_names_out(columns_to_encode))\n",
    "\n",
    "# Concatenate the encoded columns with the original DataFrame\n",
    "df_encoded = pd.concat([df.reset_index(drop=True), encoded_df.reset_index(drop=True)], axis=1)\n",
    "\n",
    "# Drop the original columns that were encoded\n",
    "df_encoded.drop(columns=columns_to_encode, inplace=True)\n",
    "\n",
    "# Display the first few rows of the updated DataFrame\n",
    "print(df_encoded.info())"
   ]
  },
  {
   "cell_type": "code",
   "execution_count": null,
   "metadata": {},
   "outputs": [],
   "source": [
    "#Scale numerical features: country, stays_in_weekend_nights, stays_in_week_nights, lead_time, adults, adr, CPI_AVG, INFLATION, INFLATION_CHG, CSMR_SENT, UNRATE, INTRSRT, GDP, FUEL_PRCS, CPI_HOTELS, US_GINI, DIS_INC\n",
    "#MinMaxScaler:\n",
    "#StandardScaler:\n"
   ]
  },
  {
   "cell_type": "code",
   "execution_count": 7,
   "metadata": {},
   "outputs": [
    {
     "name": "stdout",
     "output_type": "stream",
     "text": [
      "          hotel  is_canceled  lead_time  arrival_date_year arrival_date_month  \\\n",
      "0  Resort Hotel            0        342               2015               July   \n",
      "1  Resort Hotel            0        737               2015               July   \n",
      "2  Resort Hotel            0          7               2015               July   \n",
      "3  Resort Hotel            0         13               2015               July   \n",
      "4  Resort Hotel            0         14               2015               July   \n",
      "\n",
      "   arrival_date_week_number  arrival_date_day_of_month  \\\n",
      "0                        27                          1   \n",
      "1                        27                          1   \n",
      "2                        27                          1   \n",
      "3                        27                          1   \n",
      "4                        27                          1   \n",
      "\n",
      "   stays_in_weekend_nights  stays_in_week_nights  adults  ...  INFLATION  \\\n",
      "0                        0                     0       2  ...        1.8   \n",
      "1                        0                     0       2  ...        1.8   \n",
      "2                        0                     1       1  ...        1.8   \n",
      "3                        0                     1       1  ...        1.8   \n",
      "4                        0                     2       2  ...        1.8   \n",
      "\n",
      "   INFLATION_CHG CSMR_SENT UNRATE INTRSRT       GDP  FUEL_PRCS  CPI_HOTELS  \\\n",
      "0            0.0      93.1    5.3    0.75  18306.96      194.0    0.187566   \n",
      "1            0.0      93.1    5.3    0.75  18306.96      194.0    0.187566   \n",
      "2            0.0      93.1    5.3    0.75  18306.96      194.0    0.187566   \n",
      "3            0.0      93.1    5.3    0.75  18306.96      194.0    0.187566   \n",
      "4            0.0      93.1    5.3    0.75  18306.96      194.0    0.187566   \n",
      "\n",
      "   US_GINI  DIS_INC  \n",
      "0     41.2  41355.0  \n",
      "1     41.2  41355.0  \n",
      "2     41.2  41355.0  \n",
      "3     41.2  41355.0  \n",
      "4     41.2  41355.0  \n",
      "\n",
      "[5 rows x 43 columns]\n",
      "\u001b[34m\n",
      "Preprocessing features...\u001b[0m\n",
      "✅ X_processed, with shape (119390, 1219)\n",
      "Processed data shape: (119390, 1219)\n"
     ]
    }
   ],
   "source": [
    "#(from ml_logic.preprocessor import preprocess_features)\n",
    "\n",
    "# Import the preprocessing function\n",
    "sys.path.append('..')  # Adjust the path to your file structure\n",
    "from demand_predictor.ml_logic.preprocessor import preprocess_features  # Adjust the import according to your file structure\n",
    "\n",
    "# Define the path to your raw data CSV file\n",
    "data_path = '../raw_data/hotel_bookings_raw.csv'  # Adjust the path if necessary\n",
    "\n",
    "# Load the data\n",
    "df = pd.read_csv(data_path)\n",
    "\n",
    "# Display the first few rows of the dataframe\n",
    "print(df.head())\n",
    "\n",
    "# Preprocess the data\n",
    "X_processed = preprocess_features(df)\n",
    "\n",
    "# Display the shape of the processed data\n",
    "print(\"Processed data shape:\", X_processed.shape)"
   ]
  },
  {
   "cell_type": "markdown",
   "metadata": {},
   "source": [
    "## 2. Data Visualization\n",
    "- Univariate analysis\n",
    "- Bivariate analysis (scatterplot)\n",
    "- Multivariate analysis\n",
    "- Autogluon summary\n",
    "- Histograms and Density PLots\n",
    "- Boxplots\n",
    "- Heatmaps\n",
    "- Bar Plots\n",
    "- Pair Plots\n",
    "- Correlation Matrix\n",
    "- Pairwise Correlation\n",
    "- etc.\n"
   ]
  },
  {
   "cell_type": "code",
   "execution_count": null,
   "metadata": {},
   "outputs": [],
   "source": [
    "# #Summarize the dataset using AutoGluon\n",
    "# from autogluon.tabular import TabularDataset, TabularPredictor\n",
    "# ag_data = TabularDataset(data_path)\n",
    "# print(ag_data.describe())"
   ]
  },
  {
   "cell_type": "markdown",
   "metadata": {},
   "source": [
    "## 3. Feature Engineering\n",
    "- Creating new features\n",
    "- Transforming existing features"
   ]
  },
  {
   "cell_type": "markdown",
   "metadata": {},
   "source": [
    "## 4. Summary and Next Steps\n",
    "- Key insights from the analysis\n",
    "- Potential next steps for modeling"
   ]
  }
 ],
 "metadata": {
  "kernelspec": {
   "display_name": "demand_prediction",
   "language": "python",
   "name": "python3"
  },
  "language_info": {
   "codemirror_mode": {
    "name": "ipython",
    "version": 3
   },
   "file_extension": ".py",
   "mimetype": "text/x-python",
   "name": "python",
   "nbconvert_exporter": "python",
   "pygments_lexer": "ipython3",
   "version": "3.10.6"
  }
 },
 "nbformat": 4,
 "nbformat_minor": 2
}
