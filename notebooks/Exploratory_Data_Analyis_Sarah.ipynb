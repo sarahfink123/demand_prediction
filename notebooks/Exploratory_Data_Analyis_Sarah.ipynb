{
 "cells": [
  {
   "cell_type": "markdown",
   "metadata": {},
   "source": [
    "# Exploratory data analysis"
   ]
  },
  {
   "cell_type": "markdown",
   "metadata": {},
   "source": [
    "## 1. Loading the Data\n",
    "- Importing the preprocessed data\n"
   ]
  },
  {
   "cell_type": "markdown",
   "metadata": {},
   "source": [
    "## 2. Data Visualization\n",
    "- Univariate analysis\n",
    "- Bivariate analysis (scatterplot)\n",
    "- Multivariate analysis\n",
    "- Autogluon summary\n",
    "- Histograms and Density PLots\n",
    "- Boxplots\n",
    "- Heatmaps\n",
    "- Bar Plots\n",
    "- Pair Plots\n",
    "- Correlation Matrix\n",
    "- Pairwise Correlation\n",
    "- etc.\n"
   ]
  },
  {
   "cell_type": "code",
   "execution_count": null,
   "metadata": {},
   "outputs": [],
   "source": [
    "#Summarize the dataset using AutoGluon\n",
    "from autogluon.tabular import TabularDataset, TabularPredictor\n",
    "ag_data = TabularDataset(data_path)\n",
    "print(ag_data.describe())"
   ]
  },
  {
   "cell_type": "markdown",
   "metadata": {},
   "source": [
    "## 3. Feature Engineering\n",
    "- Creating new features\n",
    "- Transforming existing features"
   ]
  },
  {
   "cell_type": "markdown",
   "metadata": {},
   "source": [
    "## 4. Summary and Next Steps\n",
    "- Key insights from the analysis\n",
    "- Potential next steps for modeling"
   ]
  }
 ],
 "metadata": {
  "kernelspec": {
   "display_name": "demand_prediction",
   "language": "python",
   "name": "python3"
  },
  "language_info": {
   "codemirror_mode": {
    "name": "ipython",
    "version": 3
   },
   "file_extension": ".py",
   "mimetype": "text/x-python",
   "name": "python",
   "nbconvert_exporter": "python",
   "pygments_lexer": "ipython3",
   "version": "3.10.6"
  }
 },
 "nbformat": 4,
 "nbformat_minor": 2
}
